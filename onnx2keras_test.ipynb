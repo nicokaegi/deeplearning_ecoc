{
  "nbformat": 4,
  "nbformat_minor": 0,
  "metadata": {
    "colab": {
      "name": "onnx2keras_test",
      "provenance": [],
      "collapsed_sections": [],
      "mount_file_id": "1-iTkJwEWyQjpRGr0ozSWHEOL8kouBTAq",
      "authorship_tag": "ABX9TyMtg9XPa4m4pthZySDRjwvK",
      "include_colab_link": true
    },
    "kernelspec": {
      "name": "python3",
      "display_name": "Python 3"
    },
    "accelerator": "GPU"
  },
  "cells": [
    {
      "cell_type": "markdown",
      "metadata": {
        "id": "view-in-github",
        "colab_type": "text"
      },
      "source": [
        "<a href=\"https://colab.research.google.com/github/nicokaegi/deeplearning_ecoc/blob/master/onnx2keras_test.ipynb\" target=\"_parent\"><img src=\"https://colab.research.google.com/assets/colab-badge.svg\" alt=\"Open In Colab\"/></a>"
      ]
    },
    {
      "cell_type": "code",
      "metadata": {
        "id": "sAiCNj3zpnH0",
        "colab_type": "code",
        "colab": {}
      },
      "source": [
        "!pip install onnx2keras"
      ],
      "execution_count": null,
      "outputs": []
    },
    {
      "cell_type": "code",
      "metadata": {
        "id": "AsPUTRqQpapa",
        "colab_type": "code",
        "colab": {}
      },
      "source": [
        "import numpy as np\n",
        "import torch\n",
        "import torchvision\n",
        "from sklearn.model_selection import train_test_split\n",
        "from tensorflow.keras import layers, Sequential\n",
        "from tensorflow.keras.layers import Dense, Conv2D, Dropout, Flatten, MaxPooling2D, AveragePooling2D, Activation\n",
        "import tensorflow as tf"
      ],
      "execution_count": null,
      "outputs": []
    },
    {
      "cell_type": "code",
      "metadata": {
        "id": "Br2RM8e-oVih",
        "colab_type": "code",
        "colab": {
          "base_uri": "https://localhost:8080/",
          "height": 1000
        },
        "outputId": "b3e323fb-65db-4abf-b1dc-572445e68701"
      },
      "source": [
        "\n",
        "def cifar10_quick():\n",
        "\n",
        "        input_dim = (32, 32, 3)\n",
        "\n",
        "        model = Sequential([Conv2D(32, kernel_size=(5,5), strides=1, padding=\"same\", input_shape=input_dim),\n",
        "                                MaxPooling2D(pool_size=(3,3), strides=2),\n",
        "                                Activation(tf.nn.relu),\n",
        "                                Conv2D(32, kernel_size=(5,5), strides=1, padding=\"same\"),\n",
        "                                Activation(tf.nn.relu),\n",
        "                                AveragePooling2D(pool_size=(3,3), strides=2),\n",
        "                                Conv2D(64, kernel_size=(5,5), strides=1, padding=\"same\"),\n",
        "                                Activation(tf.nn.relu),\n",
        "                                AveragePooling2D(pool_size=(3,3), strides=2),\n",
        "                                Flatten(),\n",
        "                                Dense(64),\n",
        "                                Dense(1, activation=tf.nn.sigmoid)])\n",
        "\n",
        "        model.compile(optimizer='Adam', loss='binary_crossentropy', metrics=['accuracy'])\n",
        "\n",
        "        return model\n",
        "\n",
        "\n",
        "def compile_model():\n",
        "    '''\n",
        "    input_names = [ \"actual_input_1\" ] + [ \"learned_%d\" % i for i in range(16) ]\n",
        "    output_names = [ \"output1\" ]\n",
        "\n",
        "    resnet = torchvision.models.resnet18(pretrained=True)\n",
        "    rand = torch.rand(64, 3, 32, 32)\n",
        "    torch.onnx.export(resnet, rand, \"resnet18.onnx\", input_names=input_names,output_names=output_names)\n",
        "    resnet = onnx_to_keras(onnx.load('resnet18.onnx'),input_names=input_names,verbose=False)\n",
        "    resnet.trainable = False\n",
        "    '''\n",
        "\n",
        "    resnet = tf.keras.applications.ResNet50(\n",
        "    include_top=False, weights='imagenet', input_tensor=None, input_shape=(32,32,3),\n",
        "    pooling=None)\n",
        "\n",
        "    resnet.trainable = False\n",
        "\n",
        "    main_model = Sequential([resnet,\n",
        "                            layers.Dense(64),\n",
        "                            layers.Dense(32),\n",
        "                            layers.Dense(1, activation='sigmoid')])\n",
        "\n",
        "    main_model.compile(optimizer=tf.keras.optimizers.Adam(\n",
        "    learning_rate=0.001, beta_1=0.9, beta_2=0.999, epsilon=1e-07, amsgrad=False,\n",
        "    name='Adam',\n",
        "), loss='binary_crossentropy', metrics=['accuracy'])\n",
        "\n",
        "    return main_model\n",
        "\n",
        "    class eval_after(tf.keras.callbacks.Callback):\n",
        "\n",
        "        images = test_images\n",
        "        lables = test_lables\n",
        "\n",
        "        def on_epoch_end(self, epoch, logs=None):\n",
        "                print(\"after_epoch {}\".format(self.model.evaluate(self.images, self.lables, verbose=0)[1]))\n",
        "\n",
        "\n",
        "images = np.load('/content/drive/My Drive/ml traning data/cifar_images.npy').astype(np.float32)\n",
        "lables = np.load('/content/drive/My Drive/ml traning data/cifar_ecoc_labels.npy').astype(np.float32)\n",
        "x_train, x_test, y_train, y_test = train_test_split(images,lables[:,5],test_size=0.20)\n",
        "\n",
        "main_model = cifar10_quick()\n",
        "main_model.fit(x_train, y_train, batch_size=64, epochs=30)\n",
        "main_model.evaluate(x_test, y_test)\n"
      ],
      "execution_count": null,
      "outputs": [
        {
          "output_type": "stream",
          "text": [
            "Epoch 1/30\n",
            "750/750 [==============================] - 3s 4ms/step - loss: 0.6862 - accuracy: 0.5436\n",
            "Epoch 2/30\n",
            "750/750 [==============================] - 3s 4ms/step - loss: 0.6535 - accuracy: 0.6143\n",
            "Epoch 3/30\n",
            "750/750 [==============================] - 3s 4ms/step - loss: 0.6075 - accuracy: 0.6630\n",
            "Epoch 4/30\n",
            "750/750 [==============================] - 3s 4ms/step - loss: 0.5446 - accuracy: 0.7203\n",
            "Epoch 5/30\n",
            "750/750 [==============================] - 3s 4ms/step - loss: 0.4959 - accuracy: 0.7540\n",
            "Epoch 6/30\n",
            "750/750 [==============================] - 3s 4ms/step - loss: 0.4659 - accuracy: 0.7744\n",
            "Epoch 7/30\n",
            "750/750 [==============================] - 3s 4ms/step - loss: 0.4399 - accuracy: 0.7906\n",
            "Epoch 8/30\n",
            "750/750 [==============================] - 3s 4ms/step - loss: 0.4196 - accuracy: 0.8000\n",
            "Epoch 9/30\n",
            "750/750 [==============================] - 3s 4ms/step - loss: 0.3994 - accuracy: 0.8137\n",
            "Epoch 10/30\n",
            "750/750 [==============================] - 3s 4ms/step - loss: 0.3836 - accuracy: 0.8218\n",
            "Epoch 11/30\n",
            "750/750 [==============================] - 3s 4ms/step - loss: 0.3668 - accuracy: 0.8314\n",
            "Epoch 12/30\n",
            "750/750 [==============================] - 3s 4ms/step - loss: 0.3525 - accuracy: 0.8404\n",
            "Epoch 13/30\n",
            "750/750 [==============================] - 3s 4ms/step - loss: 0.3390 - accuracy: 0.8472\n",
            "Epoch 14/30\n",
            "750/750 [==============================] - 3s 4ms/step - loss: 0.3243 - accuracy: 0.8548\n",
            "Epoch 15/30\n",
            "750/750 [==============================] - 3s 4ms/step - loss: 0.3138 - accuracy: 0.8588\n",
            "Epoch 16/30\n",
            "750/750 [==============================] - 3s 4ms/step - loss: 0.2993 - accuracy: 0.8670\n",
            "Epoch 17/30\n",
            "750/750 [==============================] - 3s 4ms/step - loss: 0.2877 - accuracy: 0.8720\n",
            "Epoch 18/30\n",
            "750/750 [==============================] - 3s 4ms/step - loss: 0.2728 - accuracy: 0.8798\n",
            "Epoch 19/30\n",
            "750/750 [==============================] - 3s 4ms/step - loss: 0.2600 - accuracy: 0.8876\n",
            "Epoch 20/30\n",
            "750/750 [==============================] - 3s 4ms/step - loss: 0.2503 - accuracy: 0.8915\n",
            "Epoch 21/30\n",
            "750/750 [==============================] - 3s 4ms/step - loss: 0.2376 - accuracy: 0.8973\n",
            "Epoch 22/30\n",
            "750/750 [==============================] - 3s 4ms/step - loss: 0.2286 - accuracy: 0.9016\n",
            "Epoch 23/30\n",
            "750/750 [==============================] - 3s 4ms/step - loss: 0.2128 - accuracy: 0.9099\n",
            "Epoch 24/30\n",
            "750/750 [==============================] - 3s 4ms/step - loss: 0.2066 - accuracy: 0.9124\n",
            "Epoch 25/30\n",
            "750/750 [==============================] - 3s 4ms/step - loss: 0.1938 - accuracy: 0.9183\n",
            "Epoch 26/30\n",
            "750/750 [==============================] - 3s 4ms/step - loss: 0.1878 - accuracy: 0.9215\n",
            "Epoch 27/30\n",
            "750/750 [==============================] - 3s 4ms/step - loss: 0.1759 - accuracy: 0.9270\n",
            "Epoch 28/30\n",
            "750/750 [==============================] - 3s 4ms/step - loss: 0.1675 - accuracy: 0.9303\n",
            "Epoch 29/30\n",
            "750/750 [==============================] - 3s 4ms/step - loss: 0.1601 - accuracy: 0.9350\n",
            "Epoch 30/30\n",
            "750/750 [==============================] - 3s 4ms/step - loss: 0.1469 - accuracy: 0.9398\n",
            "375/375 [==============================] - 1s 2ms/step - loss: 0.7164 - accuracy: 0.7855\n"
          ],
          "name": "stdout"
        },
        {
          "output_type": "execute_result",
          "data": {
            "text/plain": [
              "[0.7164396047592163, 0.7854999899864197]"
            ]
          },
          "metadata": {
            "tags": []
          },
          "execution_count": 3
        }
      ]
    }
  ]
}